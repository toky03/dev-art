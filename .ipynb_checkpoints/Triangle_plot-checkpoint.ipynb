{
 "cells": [
  {
   "cell_type": "code",
   "execution_count": 25,
   "metadata": {},
   "outputs": [],
   "source": [
    "import numpy as np\n",
    "import matplotlib.pyplot as plt\n",
    "import pandas as pd\n",
    "import math"
   ]
  },
  {
   "cell_type": "code",
   "execution_count": 2,
   "metadata": {},
   "outputs": [],
   "source": [
    "sample = np.array([[0,0],[0,1],[1,0]])"
   ]
  },
  {
   "cell_type": "code",
   "execution_count": 33,
   "metadata": {},
   "outputs": [],
   "source": [
    "# matplot inline"
   ]
  },
  {
   "cell_type": "code",
   "execution_count": 24,
   "metadata": {},
   "outputs": [],
   "source": [
    "def plot_triangle(tri):\n",
    "    plt.plot(tri[:,0], tri[:,1],'b')\n",
    "    plt.plot([tri[0,0],tri[2,0] ],[tri[0,1], tri[2,1]],'b')"
   ]
  },
  {
   "cell_type": "code",
   "execution_count": 32,
   "metadata": {},
   "outputs": [],
   "source": [
    "def get_minimal_distance(triangle):\n",
    "    distance_a = math.sqrt((triangle[0,0] - triangle[0,1])**2 + (triangle[1,0] - triangle[1,1])**2)\n",
    "    distance_b = math.sqrt((triangle[1,0] - triangle[1,1])**2 + (triangle[2,0] - triangle[2,1])**2)\n",
    "    distance_c = math.sqrt((triangle[0,0] - triangle[0,1])**2 + (triangle[2,0] - triangle[2,1])**2)\n",
    "    return min(distance_a, distance_b, distance_c)"
   ]
  },
  {
   "cell_type": "code",
   "execution_count": null,
   "metadata": {},
   "outputs": [],
   "source": [
    "def derivate_trianlge(initial_triangle, step):"
   ]
  }
 ],
 "metadata": {
  "kernelspec": {
   "display_name": "Python 3",
   "language": "python",
   "name": "python3"
  },
  "language_info": {
   "codemirror_mode": {
    "name": "ipython",
    "version": 3
   },
   "file_extension": ".py",
   "mimetype": "text/x-python",
   "name": "python",
   "nbconvert_exporter": "python",
   "pygments_lexer": "ipython3",
   "version": "3.6.6"
  }
 },
 "nbformat": 4,
 "nbformat_minor": 2
}
